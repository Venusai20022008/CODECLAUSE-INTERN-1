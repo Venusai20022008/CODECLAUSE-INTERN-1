{
  "nbformat": 4,
  "nbformat_minor": 0,
  "metadata": {
    "colab": {
      "provenance": [],
      "authorship_tag": "ABX9TyMkyn7MHE9Fs3iP+Mvbb/Qc",
      "include_colab_link": true
    },
    "kernelspec": {
      "name": "python3",
      "display_name": "Python 3"
    },
    "language_info": {
      "name": "python"
    }
  },
  "cells": [
    {
      "cell_type": "markdown",
      "metadata": {
        "id": "view-in-github",
        "colab_type": "text"
      },
      "source": [
        "<a href=\"https://colab.research.google.com/github/Venusai20022008/CODECLAUSE-INTERN-1/blob/main/URL_SHORTENER.ipynb\" target=\"_parent\"><img src=\"https://colab.research.google.com/assets/colab-badge.svg\" alt=\"Open In Colab\"/></a>"
      ]
    },
    {
      "cell_type": "code",
      "execution_count": 1,
      "metadata": {
        "colab": {
          "base_uri": "https://localhost:8080/",
          "height": 572
        },
        "id": "l5jZ_WoWBx5J",
        "outputId": "c9ebbfad-d9ff-4fbc-efa2-ccc9e396969d"
      },
      "outputs": [
        {
          "output_type": "stream",
          "name": "stdout",
          "text": [
            "Looking in indexes: https://pypi.org/simple, https://us-python.pkg.dev/colab-wheels/public/simple/\n",
            "Requirement already satisfied: pyshorteners in /usr/local/lib/python3.10/dist-packages (1.0.1)\n",
            "Requirement already satisfied: requests in /usr/local/lib/python3.10/dist-packages (from pyshorteners) (2.27.1)\n",
            "Requirement already satisfied: urllib3<1.27,>=1.21.1 in /usr/local/lib/python3.10/dist-packages (from requests->pyshorteners) (1.26.15)\n",
            "Requirement already satisfied: certifi>=2017.4.17 in /usr/local/lib/python3.10/dist-packages (from requests->pyshorteners) (2022.12.7)\n",
            "Requirement already satisfied: charset-normalizer~=2.0.0 in /usr/local/lib/python3.10/dist-packages (from requests->pyshorteners) (2.0.12)\n",
            "Requirement already satisfied: idna<4,>=2.5 in /usr/local/lib/python3.10/dist-packages (from requests->pyshorteners) (3.4)\n",
            "Please choose any one of the operations from the listed below the list of operations::\n",
            "1. To enter the API token for the service account.\n",
            "2. To enter the URL which you want to shorten.\n",
            "3. To perform the operation of shortening the URL.\n",
            "4. To print the URL which is shortened.\n",
            "5. To exit from the code execution.\n"
          ]
        },
        {
          "output_type": "error",
          "ename": "KeyboardInterrupt",
          "evalue": "ignored",
          "traceback": [
            "\u001b[0;31m---------------------------------------------------------------------------\u001b[0m",
            "\u001b[0;31mKeyboardInterrupt\u001b[0m                         Traceback (most recent call last)",
            "\u001b[0;32m<ipython-input-1-a93afa163422>\u001b[0m in \u001b[0;36m<cell line: 80>\u001b[0;34m()\u001b[0m\n\u001b[1;32m     79\u001b[0m \u001b[0;34m\u001b[0m\u001b[0m\n\u001b[1;32m     80\u001b[0m \u001b[0;32mif\u001b[0m \u001b[0m__name__\u001b[0m \u001b[0;34m==\u001b[0m \u001b[0;34m'__main__'\u001b[0m\u001b[0;34m:\u001b[0m\u001b[0;34m\u001b[0m\u001b[0;34m\u001b[0m\u001b[0m\n\u001b[0;32m---> 81\u001b[0;31m    \u001b[0mmain\u001b[0m\u001b[0;34m(\u001b[0m\u001b[0;34m)\u001b[0m\u001b[0;34m\u001b[0m\u001b[0;34m\u001b[0m\u001b[0m\n\u001b[0m",
            "\u001b[0;32m<ipython-input-1-a93afa163422>\u001b[0m in \u001b[0;36mmain\u001b[0;34m()\u001b[0m\n\u001b[1;32m     54\u001b[0m         \u001b[0mprint\u001b[0m\u001b[0;34m(\u001b[0m\u001b[0;34m\"5. To exit from the code execution.\"\u001b[0m\u001b[0;34m)\u001b[0m\u001b[0;34m\u001b[0m\u001b[0;34m\u001b[0m\u001b[0m\n\u001b[1;32m     55\u001b[0m \u001b[0;34m\u001b[0m\u001b[0m\n\u001b[0;32m---> 56\u001b[0;31m         \u001b[0mmenu_choice\u001b[0m \u001b[0;34m=\u001b[0m \u001b[0minput\u001b[0m\u001b[0;34m(\u001b[0m\u001b[0;34m)\u001b[0m\u001b[0;34m\u001b[0m\u001b[0;34m\u001b[0m\u001b[0m\n\u001b[0m\u001b[1;32m     57\u001b[0m         \u001b[0mmenu_choice\u001b[0m \u001b[0;34m=\u001b[0m \u001b[0mint\u001b[0m\u001b[0;34m(\u001b[0m\u001b[0mmenu_choice\u001b[0m\u001b[0;34m)\u001b[0m\u001b[0;34m\u001b[0m\u001b[0;34m\u001b[0m\u001b[0m\n\u001b[1;32m     58\u001b[0m \u001b[0;34m\u001b[0m\u001b[0m\n",
            "\u001b[0;32m/usr/local/lib/python3.10/dist-packages/ipykernel/kernelbase.py\u001b[0m in \u001b[0;36mraw_input\u001b[0;34m(self, prompt)\u001b[0m\n\u001b[1;32m    849\u001b[0m                 \u001b[0;34m\"raw_input was called, but this frontend does not support input requests.\"\u001b[0m\u001b[0;34m\u001b[0m\u001b[0;34m\u001b[0m\u001b[0m\n\u001b[1;32m    850\u001b[0m             )\n\u001b[0;32m--> 851\u001b[0;31m         return self._input_request(str(prompt),\n\u001b[0m\u001b[1;32m    852\u001b[0m             \u001b[0mself\u001b[0m\u001b[0;34m.\u001b[0m\u001b[0m_parent_ident\u001b[0m\u001b[0;34m,\u001b[0m\u001b[0;34m\u001b[0m\u001b[0;34m\u001b[0m\u001b[0m\n\u001b[1;32m    853\u001b[0m             \u001b[0mself\u001b[0m\u001b[0;34m.\u001b[0m\u001b[0m_parent_header\u001b[0m\u001b[0;34m,\u001b[0m\u001b[0;34m\u001b[0m\u001b[0;34m\u001b[0m\u001b[0m\n",
            "\u001b[0;32m/usr/local/lib/python3.10/dist-packages/ipykernel/kernelbase.py\u001b[0m in \u001b[0;36m_input_request\u001b[0;34m(self, prompt, ident, parent, password)\u001b[0m\n\u001b[1;32m    893\u001b[0m             \u001b[0;32mexcept\u001b[0m \u001b[0mKeyboardInterrupt\u001b[0m\u001b[0;34m:\u001b[0m\u001b[0;34m\u001b[0m\u001b[0;34m\u001b[0m\u001b[0m\n\u001b[1;32m    894\u001b[0m                 \u001b[0;31m# re-raise KeyboardInterrupt, to truncate traceback\u001b[0m\u001b[0;34m\u001b[0m\u001b[0;34m\u001b[0m\u001b[0m\n\u001b[0;32m--> 895\u001b[0;31m                 \u001b[0;32mraise\u001b[0m \u001b[0mKeyboardInterrupt\u001b[0m\u001b[0;34m(\u001b[0m\u001b[0;34m\"Interrupted by user\"\u001b[0m\u001b[0;34m)\u001b[0m \u001b[0;32mfrom\u001b[0m \u001b[0;32mNone\u001b[0m\u001b[0;34m\u001b[0m\u001b[0;34m\u001b[0m\u001b[0m\n\u001b[0m\u001b[1;32m    896\u001b[0m             \u001b[0;32mexcept\u001b[0m \u001b[0mException\u001b[0m \u001b[0;32mas\u001b[0m \u001b[0me\u001b[0m\u001b[0;34m:\u001b[0m\u001b[0;34m\u001b[0m\u001b[0;34m\u001b[0m\u001b[0m\n\u001b[1;32m    897\u001b[0m                 \u001b[0mself\u001b[0m\u001b[0;34m.\u001b[0m\u001b[0mlog\u001b[0m\u001b[0;34m.\u001b[0m\u001b[0mwarning\u001b[0m\u001b[0;34m(\u001b[0m\u001b[0;34m\"Invalid Message:\"\u001b[0m\u001b[0;34m,\u001b[0m \u001b[0mexc_info\u001b[0m\u001b[0;34m=\u001b[0m\u001b[0;32mTrue\u001b[0m\u001b[0;34m)\u001b[0m\u001b[0;34m\u001b[0m\u001b[0;34m\u001b[0m\u001b[0m\n",
            "\u001b[0;31mKeyboardInterrupt\u001b[0m: Interrupted by user"
          ]
        }
      ],
      "source": [
        "import sys  \n",
        "!pip install pyshorteners\n",
        "from pyshorteners import Shortener\n",
        "\n",
        "class URLShortner:  \n",
        "  \n",
        "    #constructor to initialize the class variables that will be used for the initializing the class variables of the above-written class  \n",
        "    def __init__(self):  \n",
        "        self.bitly_api_token = None  \n",
        "        self.shortened_url = None  \n",
        "        self.long_url = None  \n",
        "        self.exception_encountered  = None  \n",
        "#A sample function that will be sued to Set the  API value  which we will use to shorten the input URL that will be provided by the user  \n",
        "    def set_api_url(self):  \n",
        "        print(\"enter the api token for the bitly service account::\")  \n",
        "        input_api_key = input()  \n",
        "        self.api_url = input_api_key  \n",
        "  \n",
        "#this function is a written explicitly  to take an input URL from the user that will be used to short  \n",
        "    def get_input_url(self):  \n",
        "        print(\"Enter the URL that you want to shorten.\")  \n",
        "        url_to_shorten = input()  \n",
        "        return url_to_shorten  \n",
        "  \n",
        "#this function is written to perform the shorter operation on the input URL there is one parameter that is specified for this particular function and this parameter is the URL  parameter that is representing the input URL provided by the user.  try-catch block is implemented in this function so that if some exception is encountered while shortening the input URL which is provided by the user that  exception is handled  and the value of the shortened URL variable is set to none which represents that there is some error exception which is encountered while performing the shortening operation of the specified URL,  and if the operation is successful and no error exception is encountering while shortening the input URL provided by the user the shorten URL variable is set with the actual shorten URL which is returned by the API call that we have given in this function If the exception or errors encountered while shortening the input URL there are a couple of steps that are performed first of all the shortened URL variable is set to none representing there is an exception and along with that the message associated with the exception or error which is encounter is also printed to the user representing the root cause of the exception that is encounter   \n",
        "    def shorten_url(self,url):  \n",
        "        url_shortener = Shortener('Bitly', bitly_token = self.bitly_api_token)  \n",
        "        shortened_url = url_shortener.short(url)  \n",
        "  \n",
        "        try:  \n",
        "            self.shortened_url = shortened_url  \n",
        "        except Exception as e:  \n",
        "            self.shortened_url = None  \n",
        "            self.exception_encountered = e  \n",
        "    def print_shortened_url(self):  \n",
        "  \n",
        "        if self.shortened_url:  \n",
        "            print(\"Shortened URL: {}\".format(self.shortened_url))  \n",
        "        else :  \n",
        "            print(\"URL shortening got an exception {}.\".format(self.exception_encountered)) \n",
        "  \n",
        "#And this is the main function in this function the object of the above-written class is created and that object is used to call all the above-written functions inside that class,  the user is given multiple options like to enter the API key of the service account,  to enter the URL which the user wants to shorten,  to perform the actual shortening operation of the specified input URL,   once the sorting operation is performed successfully the user can print the URL which is shortened,  and in the last option user can accept the code execution by opting the last and final option,  appropriate input is taken from the user and appropriate output is given according to the option which is selected by the user to perform the operation.  \n",
        "  \n",
        "def main():  \n",
        "      \n",
        "    shortner =  URLShortner()  \n",
        "    url = None  \n",
        "    while(True):  \n",
        "        print(\"Please choose any one of the operations from the listed below the list of operations::\")  \n",
        "        print(\"1. To enter the API token for the service account.\")  \n",
        "        print(\"2. To enter the URL which you want to shorten.\")  \n",
        "        print(\"3. To perform the operation of shortening the URL.\")  \n",
        "        print(\"4. To print the URL which is shortened.\")  \n",
        "        print(\"5. To exit from the code execution.\")  \n",
        "          \n",
        "        menu_choice = input()  \n",
        "        menu_choice = int(menu_choice)  \n",
        "  \n",
        "        if menu_choice == 1:  \n",
        "            shortner.set_api_url()  \n",
        "        elif menu_choice == 2:  \n",
        "            url = shortner.get_input_url()  \n",
        "        elif menu_choice == 3:  \n",
        "            # shortner.shorten_url(url)  \n",
        "            print(\"URL shortned successfully.\")  \n",
        "        elif menu_choice == 4:  \n",
        "            shortner.print_shortened_url()   \n",
        "        elif menu_choice == 5:  \n",
        "           exit()  \n",
        "          \n",
        "        print(\"To keep on going with code execution, type [yes] otherwise [no].\")  \n",
        "        continue_or_exit = input()  \n",
        "  \n",
        "        if continue_or_exit == 'yes' or continue_or_exit == 'YES':  \n",
        "            pass  \n",
        "        elif continue_or_exit == 'no' or continue_or_exit == 'NO':  \n",
        "           sys.exit()  \n",
        "  \n",
        "  \n",
        "if __name__ == '__main__':  \n",
        "   main()  "
      ]
    }
  ]
}